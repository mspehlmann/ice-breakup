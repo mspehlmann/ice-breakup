{
 "cells": [
  {
   "cell_type": "markdown",
   "metadata": {},
   "source": [
    "This codebook looks at the temperatures in the cluster 1 identified in the nenana_river codebook.  This first cell loads in the temperature data from 01/01/1992 to 03/27/2022."
   ]
  },
  {
   "cell_type": "code",
   "execution_count": 7,
   "metadata": {},
   "outputs": [],
   "source": [
    "import pandas as pd\n",
    "import numpy as np\n",
    "import matplotlib.pyplot as plt\n",
    "import seaborn as sns\n",
    "import datetime \n",
    "import re\n",
    "\n",
    "tdf_1 = pd.read_csv('temp_1.csv')\n",
    "tdf_2 = pd.read_csv('temp_2.csv')\n",
    "tdf_3 = pd.read_csv('temp_3.csv')\n",
    "tdf_4 = pd.read_csv('temp_4.csv')\n",
    "tdf_5 = pd.read_csv('temp_5.csv')\n",
    "\n",
    "sdf_1 = pd.read_csv('precip1.csv')\n",
    "sdf_2 = pd.read_csv('precip2.csv')\n",
    "sdf_3 = pd.read_csv('precip3.csv')\n",
    "sdf_4 = pd.read_csv('precip4.csv')\n",
    "sdf_5 = pd.read_csv('precip5.csv')\n",
    "\n",
    "tdf = pd.concat([tdf_1, tdf_2, tdf_3, tdf_4, tdf_5])\n",
    "sdf = pd.concat([sdf_1, sdf_2, sdf_3, sdf_4, sdf_5])\n",
    "\n",
    "# sdf = pd.concat([sdf_1, sdf_2])\n",
    "\n",
    "# tdf = pd.concat([tdf_1, tdf_2])\n",
    "# tdf.drop(axis=1, columns='TOBS', inplace=True)\n",
    "\n",
    "def get_year(value):\n",
    "    if bool(re.match('^\\d{4}', value[:4])):\n",
    "        return value[:4]\n",
    "\n",
    "def get_month(value):\n",
    "    if bool(re.match('^\\d{2}', value[5:7])):\n",
    "        return value[5:7]\n",
    "\n",
    "def get_day(value):\n",
    "    if bool(re.match('^\\d{2}', value[8:])):\n",
    "        return value[8:]\n",
    "\n",
    "tdf.drop(tdf[tdf['TMAX'] > 96.1].index, inplace=True)\n",
    "tdf.drop(tdf[tdf['TMIN'] < -65.9].index, inplace=True)\n",
    "\n",
    "tdf['year'] = tdf['DATE'].apply(lambda x: get_year(x))\n",
    "tdf['month'] = tdf['DATE'].apply(lambda x: get_month(x))\n",
    "tdf['day'] = tdf['DATE'].apply(lambda x: get_day(x))\n",
    "\n",
    "sdf['year'] = sdf['DATE'].apply(lambda x: get_year(x))\n",
    "sdf['month'] = sdf['DATE'].apply(lambda x: get_month(x))\n",
    "sdf['day'] = sdf['DATE'].apply(lambda x: get_day(x))\n",
    "\n",
    "tdf['DATE'] = pd.to_datetime(tdf['DATE'])\n",
    "tdf['day of year'] = tdf['DATE'].dt.dayofyear\n",
    "sdf['DATE'] = pd.to_datetime(sdf['DATE'])\n",
    "sdf['day of year'] = sdf['DATE'].dt.dayofyear\n",
    "\n",
    "tdf = tdf[tdf['NAME'] == 'FAIRBANKS INTERNATIONAL AIRPORT, AK US']\n",
    "sdf = sdf[sdf['NAME'] == 'FAIRBANKS INTERNATIONAL AIRPORT, AK US']\n",
    "\n"
   ]
  },
  {
   "cell_type": "markdown",
   "metadata": {},
   "source": [
    "Looking at the time series weather.  Some values were obviously wrong on min and max temps, these records were removed.  I am a bit perplexed at the mode is right at 32 for average temp.  "
   ]
  },
  {
   "cell_type": "code",
   "execution_count": 9,
   "metadata": {},
   "outputs": [
    {
     "data": {
      "image/png": "[encoded data removed]",
      "text/plain": [
       "<Figure size 432x288 with 3 Axes>"
      ]
     },
     "metadata": {
      "needs_background": "light"
     },
     "output_type": "display_data"
    },
    {
     "data": {
      "image/png": "[encoded data removed]",
      "text/plain": [
       "<Figure size 432x288 with 3 Axes>"
      ]
     },
     "metadata": {
      "needs_background": "light"
     },
     "output_type": "display_data"
    }
   ],
   "source": [
    "fig1, (ax1, ax2, ax3) = plt.subplots(1,3)\n",
    "ax1.hist(tdf['TAVG'], bins=100)\n",
    "ax1.set_title('TAVG')\n",
    "ax2.hist(tdf['TMAX'], bins=100)\n",
    "ax2.set_title('TMAX')\n",
    "ax3.hist(tdf['TMIN'], bins=100)\n",
    "ax3.set_title('TMIN')\n",
    "fig1.tight_layout()\n",
    "\n",
    "fig2, (ax1, ax2, ax3) = plt.subplots(1,3)\n",
    "ax1.hist(sdf['PRCP'])\n",
    "ax1.set_title('PRCP')\n",
    "ax2.hist(sdf['SNOW'])\n",
    "ax2.set_title('SNOW')\n",
    "ax3.hist(sdf['SNWD'])\n",
    "ax3.set_title('SNWD')\n",
    "fig2.tight_layout()\n",
    "\n"
   ]
  },
  {
   "cell_type": "markdown",
   "metadata": {},
   "source": [
    "So I think now I need to look at what variable may influence time of break up.  I suspect that snow depth and average temperature would have the biggest.  This cell will tie the cluster data frame (target) in the features frames.  Before this can be examined first a targets column needs to be created.  This is tricky because it is likely that information in the last calendar year influences breakup time in the next calendar year.  So my approach will be to just take all dates after a break to neaxt break ups features.  This is probably too simplistic and have unnecessary data perhaps I'll come back and tighten this up.  "
   ]
  },
  {
   "cell_type": "code",
   "execution_count": 36,
   "metadata": {},
   "outputs": [
    {
     "name": "stdout",
     "output_type": "stream",
     "text": [
      "37032\n"
     ]
    }
   ],
   "source": [
    "cluster = pd.read_csv('cluster1.csv')\n",
    "all_breakups = pd.read_csv('all_breakups.csv')\n",
    "cluster.head()\n",
    "\n",
    "def month_formatter(value):\n",
    "    pass\n",
    "    if value == 'April':\n",
    "        return 4\n",
    "    elif value == 'May':\n",
    "        return 5\n",
    "\n",
    "# cluster['Month'] = cluster['Month'].apply(lambda x: month_formatter(x))\n",
    "# cluster['DATE'] = pd.to_datetime(cluster[['Year', 'Month', 'Day']])\n",
    "# cluster.to_csv('cluster.csv')\n",
    "# cluster.loc[cluster['Year'] == 1993]\n",
    "\n",
    "all_breakups['Month'] = all_breakups['Month'].apply(lambda x: month_formatter(x))\n",
    "all_breakups['DATE'] = pd.to_datetime(all_breakups[['Year', 'Month', 'Day']])\n",
    "all_breakups.loc[all_breakups['Year'] == 1993]\n",
    "\n",
    "merged_snowtemps = pd.merge(left=tdf, right=sdf[['DATE', 'PRCP', 'SNOW', 'SNWD']], how='left', on='DATE')\n",
    "features_targets_df = pd.DataFrame()\n",
    "\n",
    "previous_breakup = '1916-05-01'\n",
    "\n",
    "# for breakup_date in cluster['DATE'].unique():\n",
    "#     break_decimal = cluster['Decimal Day of Year'].loc[cluster['DATE'] == breakup_date]\n",
    "#     mask = (merged_snowtemps['DATE'] > previous_breakup) & (merged_snowtemps['DATE'] <= breakup_date)\n",
    "#     selection = merged_snowtemps.loc[mask] \n",
    "#     concat = pd.merge(left=selection, right=cluster[['DATE', 'Decimal Day of Year']], how='left', on='DATE')\n",
    "#     features_targets_df = pd.concat([features_targets_df, concat])\n",
    "#     features_targets_df['Decimal Day of Year'].fillna(float(break_decimal), inplace=True)\n",
    "#     previous_breakup = breakup_date\n",
    "\n",
    "for breakup_date in all_breakups['DATE'].unique():\n",
    "    break_decimal = all_breakups['Decimal Day of Year'].loc[all_breakups['DATE'] == breakup_date]\n",
    "    mask = (merged_snowtemps['DATE'] > previous_breakup) & (merged_snowtemps['DATE'] <= breakup_date)\n",
    "    selection = merged_snowtemps.loc[mask] \n",
    "    concat = pd.merge(left=selection, right=all_breakups[['DATE', 'Decimal Day of Year']], how='left', on='DATE')\n",
    "    features_targets_df = pd.concat([features_targets_df, concat])\n",
    "    features_targets_df['Decimal Day of Year'].fillna(float(break_decimal), inplace=True)\n",
    "    previous_breakup = breakup_date\n",
    "    \n",
    "    \n",
    "predict_features = merged_snowtemps[merged_snowtemps['DATE'] > '2020-04-27']\n",
    "features_targets_df.drop(labels=['TOBS', 'TAVG'], axis=1, inplace=True)\n",
    "features_targets_df.to_csv('features_targets.csv')\n",
    "\n",
    "print(len(features_targets_df))\n",
    "predict_features.to_csv('predict_frame.csv')\n"
   ]
  },
  {
   "cell_type": "markdown",
   "metadata": {},
   "source": [
    "Now it is time to build the random forest model.  Unfortunately this is a pretty sparse dataset.  I am going to run this twice, once with all clusters and another time with just the last 30 year cluster."
   ]
  },
  {
   "cell_type": "code",
   "execution_count": 39,
   "metadata": {},
   "outputs": [
    {
     "name": "stdout",
     "output_type": "stream",
     "text": [
      "STATION                0\n",
      "NAME                   0\n",
      "TMAX                   0\n",
      "TMIN                   0\n",
      "year                   0\n",
      "month                  0\n",
      "day                    0\n",
      "day of year            0\n",
      "PRCP                   0\n",
      "SNOW                   0\n",
      "SNWD                   0\n",
      "DATE                   0\n",
      "Decimal Day of Year    0\n",
      "dtype: int64\n"
     ]
    },
    {
     "name": "stderr",
     "output_type": "stream",
     "text": [
      "/Users/michaelspehlmann/opt/anaconda3/envs/rock_class/lib/python3.8/site-packages/sklearn/model_selection/_validation.py:681: DataConversionWarning: A column-vector y was passed when a 1d array was expected. Please change the shape of y to (n_samples,), for example using ravel().\n",
      "  estimator.fit(X_train, y_train, **fit_params)\n",
      "/Users/michaelspehlmann/opt/anaconda3/envs/rock_class/lib/python3.8/site-packages/sklearn/model_selection/_validation.py:681: DataConversionWarning: A column-vector y was passed when a 1d array was expected. Please change the shape of y to (n_samples,), for example using ravel().\n",
      "  estimator.fit(X_train, y_train, **fit_params)\n",
      "/Users/michaelspehlmann/opt/anaconda3/envs/rock_class/lib/python3.8/site-packages/sklearn/model_selection/_validation.py:681: DataConversionWarning: A column-vector y was passed when a 1d array was expected. Please change the shape of y to (n_samples,), for example using ravel().\n",
      "  estimator.fit(X_train, y_train, **fit_params)\n",
      "/Users/michaelspehlmann/opt/anaconda3/envs/rock_class/lib/python3.8/site-packages/sklearn/model_selection/_validation.py:681: DataConversionWarning: A column-vector y was passed when a 1d array was expected. Please change the shape of y to (n_samples,), for example using ravel().\n",
      "  estimator.fit(X_train, y_train, **fit_params)\n",
      "/Users/michaelspehlmann/opt/anaconda3/envs/rock_class/lib/python3.8/site-packages/sklearn/model_selection/_validation.py:681: DataConversionWarning: A column-vector y was passed when a 1d array was expected. Please change the shape of y to (n_samples,), for example using ravel().\n",
      "  estimator.fit(X_train, y_train, **fit_params)\n",
      "/Users/michaelspehlmann/opt/anaconda3/envs/rock_class/lib/python3.8/site-packages/sklearn/model_selection/_validation.py:681: DataConversionWarning: A column-vector y was passed when a 1d array was expected. Please change the shape of y to (n_samples,), for example using ravel().\n",
      "  estimator.fit(X_train, y_train, **fit_params)\n",
      "/Users/michaelspehlmann/opt/anaconda3/envs/rock_class/lib/python3.8/site-packages/sklearn/model_selection/_validation.py:681: DataConversionWarning: A column-vector y was passed when a 1d array was expected. Please change the shape of y to (n_samples,), for example using ravel().\n",
      "  estimator.fit(X_train, y_train, **fit_params)\n",
      "/Users/michaelspehlmann/opt/anaconda3/envs/rock_class/lib/python3.8/site-packages/sklearn/model_selection/_validation.py:681: DataConversionWarning: A column-vector y was passed when a 1d array was expected. Please change the shape of y to (n_samples,), for example using ravel().\n",
      "  estimator.fit(X_train, y_train, **fit_params)\n",
      "/Users/michaelspehlmann/opt/anaconda3/envs/rock_class/lib/python3.8/site-packages/sklearn/model_selection/_validation.py:681: DataConversionWarning: A column-vector y was passed when a 1d array was expected. Please change the shape of y to (n_samples,), for example using ravel().\n",
      "  estimator.fit(X_train, y_train, **fit_params)\n",
      "/Users/michaelspehlmann/opt/anaconda3/envs/rock_class/lib/python3.8/site-packages/sklearn/model_selection/_validation.py:681: DataConversionWarning: A column-vector y was passed when a 1d array was expected. Please change the shape of y to (n_samples,), for example using ravel().\n",
      "  estimator.fit(X_train, y_train, **fit_params)\n"
     ]
    },
    {
     "data": {
      "text/plain": [
       "3.8812808913435672"
      ]
     },
     "execution_count": 39,
     "metadata": {},
     "output_type": "execute_result"
    }
   ],
   "source": [
    "from sklearn.model_selection import train_test_split\n",
    "from sklearn.ensemble import RandomForestRegressor\n",
    "from sklearn.model_selection import KFold\n",
    "from sklearn.model_selection import cross_val_score\n",
    "\n",
    "random_forest = RandomForestRegressor()\n",
    "features_targets = features_targets_df.dropna(subset=['Decimal Day of Year', 'day of year', 'TMAX', 'TMIN', 'PRCP', 'SNOW', 'SNWD'])\n",
    "print(features_targets.isna().sum())\n",
    "\n",
    "targets_df = features_targets[['Decimal Day of Year']]\n",
    "features_df = features_targets[['day of year', 'TMAX', 'TMIN', 'PRCP', 'SNOW', 'SNWD']]\n",
    "X_train, X_test, y_train, y_test = train_test_split(features_df, targets_df, test_size=0.2, random_state=4)\n",
    "\n",
    "random_forest.fit(X_train, y_train.values.ravel())\n",
    "random_forest.score(X_test, y_test.values.ravel())\n",
    "\n",
    "accuracy = []\n",
    "levels = []\n",
    "\n",
    "for level in range(4,51):\n",
    "    levels.append(level)\n",
    "    random_forest = RandomForestRegressor(max_depth=level)\n",
    "    random_forest.fit(X_train, y_train.values.ravel())\n",
    "    accuracy.append(random_forest.score(X_test, y_test.values.ravel()))\n",
    "\n",
    "model = RandomForestRegressor(max_depth=25)\n",
    "\n",
    "cv = KFold(n_splits=10, random_state=1, shuffle=True)\n",
    "forest_results = cross_val_score(model, features_df, targets_df, scoring='neg_mean_absolute_error', cv=cv, n_jobs=-1)\n",
    "np.mean(np.absolute(forest_results))\n"
   ]
  },
  {
   "cell_type": "markdown",
   "metadata": {},
   "source": [
    "Not too imporessive with only 25% accuracy achieved at about 20 levels when we use only one cluster of data, the cluster from 1992 to 2021.  However, when we increase the dataset to include all the data (1916-->2021) then there is an increase in accuracy to about 30%.  I think that this shows that these features do not have much influence on breakup.  "
   ]
  },
  {
   "cell_type": "code",
   "execution_count": 60,
   "metadata": {},
   "outputs": [
    {
     "name": "stdout",
     "output_type": "stream",
     "text": [
      "day of year    0\n",
      "TMAX           0\n",
      "TMIN           0\n",
      "PRCP           0\n",
      "SNOW           0\n",
      "SNWD           0\n",
      "dtype: int64\n",
      "123.67822302005958\n",
      "[121.82505993 124.03436144 125.916317  ]\n"
     ]
    },
    {
     "data": {
      "image/png": "[encoded data removed]",
      "text/plain": [
       "<Figure size 432x288 with 2 Axes>"
      ]
     },
     "metadata": {
      "needs_background": "light"
     },
     "output_type": "display_data"
    }
   ],
   "source": [
    "predict_features = pd.read_csv('prediction_X.csv')\n",
    "\n",
    "predict_features['DATE'] = pd.to_datetime(predict_features['DATE'])\n",
    "predict_features['day of year'] = predict_features['DATE'].dt.dayofyear\n",
    "\n",
    "predict_features = predict_features[['day of year', 'TMAX', 'TMIN', 'PRCP', 'SNOW', 'SNWD']]\n",
    "predict_features.dropna(inplace=True)\n",
    "print(predict_features.isna().sum())\n",
    "\n",
    "model.fit(X_train, y_train.values.ravel())\n",
    "predictions = model.predict(predict_features)\n",
    "\n",
    "fig, (ax1, ax2) = plt.subplots(1,2)\n",
    "ax1.set_title('Accuracy Against Levels')\n",
    "ax1.plot(levels, accuracy, c='red')\n",
    "ax2.hist(predictions, bins=20)\n",
    "ax2.set_title('Distributions of Predictions')\n",
    "\n",
    "print(np.mean(predictions))\n",
    "print(np.quantile(predictions, [0.25, 0.5, 0.75]))\n"
   ]
  }
 ],
 "metadata": {
  "interpreter": {
   "hash": "3adb6bf31874c3eea8637065d2cd45c974b2998567b7210ab7e10166fee77e7f"
  },
  "kernelspec": {
   "display_name": "Python 3.8.12 ('travel_delays')",
   "language": "python",
   "name": "python3"
  },
  "language_info": {
   "codemirror_mode": {
    "name": "ipython",
    "version": 3
   },
   "file_extension": ".py",
   "mimetype": "text/x-python",
   "name": "python",
   "nbconvert_exporter": "python",
   "pygments_lexer": "ipython3",
   "version": "3.8.12"
  },
  "orig_nbformat": 4
 },
 "nbformat": 4,
 "nbformat_minor": 2
}
